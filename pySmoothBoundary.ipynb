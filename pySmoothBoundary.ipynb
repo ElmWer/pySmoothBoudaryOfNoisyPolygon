{
 "cells": [
  {
   "cell_type": "markdown",
   "metadata": {},
   "source": [
    "# **pySmoothBoundary**\n",
    "\n"
   ]
  },
  {
   "cell_type": "code",
   "execution_count": 1,
   "metadata": {},
   "outputs": [],
   "source": [
    "%matplotlib  ipympl\n",
    "\n",
    "import numpy as np\n",
    "import scipy as sp\n",
    "import pandas as pd\n",
    "import matplotlib.pyplot as plt\n",
    "\n",
    "from shapely.geometry import asPolygon\n",
    "from scipy import signal\n"
   ]
  },
  {
   "cell_type": "markdown",
   "metadata": {},
   "source": [
    "## Define Function"
   ]
  },
  {
   "cell_type": "code",
   "execution_count": 2,
   "metadata": {},
   "outputs": [],
   "source": [
    "def smooth_Boundary(polygon):\n",
    "    \"\"\" Generate smooth boundary from concave hull,\n",
    "    using scipy.signal.convolve\n",
    "    Parameters\n",
    "    ----------\n",
    "    polygonl : 2D array\n",
    "        List of coordinates of pixels of concave hull\n",
    "    Returns\n",
    "    -------\n",
    "    boundary : 2D array\n",
    "        List of coordinates of pixels of the smoothed boundary\n",
    "    \"\"\"\n",
    "\n",
    "    # window size and type\n",
    "    win_size = max(5, int(polygon.shape[0] / 10))\n",
    "    win_size = min(win_size, 10)\n",
    "    window = signal.hamming(win_size)\n",
    "\n",
    "    # extent boundary to solve some convolute topics\n",
    "    ext_left = polygon[-win_size:]\n",
    "    polygon = np.insert(polygon, 0, ext_left, axis=0)\n",
    "\n",
    "    # apply filter\n",
    "    X = signal.convolve(polygon[:, 0], window, mode='valid', method='auto') / sum(window)\n",
    "    Y = signal.convolve(polygon[:, 1], window, mode='valid', method='auto') / sum(window)\n",
    "\n",
    "    boundary = np.column_stack((X, Y))\n",
    "    \n",
    "    return boundary"
   ]
  },
  {
   "cell_type": "markdown",
   "metadata": {},
   "source": [
    "## Test"
   ]
  },
  {
   "cell_type": "code",
   "execution_count": 3,
   "metadata": {},
   "outputs": [
    {
     "data": {
      "application/vnd.jupyter.widget-view+json": {
       "model_id": "9622992243f043f3b5d9ce83974de25c",
       "version_major": 2,
       "version_minor": 0
      },
      "text/plain": [
       "Canvas(toolbar=Toolbar(toolitems=[('Home', 'Reset original view', 'home', 'home'), ('Back', 'Back to previous …"
      ]
     },
     "metadata": {},
     "output_type": "display_data"
    },
    {
     "data": {
      "text/plain": [
       "<matplotlib.legend.Legend at 0x15a18076df0>"
      ]
     },
     "execution_count": 3,
     "metadata": {},
     "output_type": "execute_result"
    }
   ],
   "source": [
    "# read data\n",
    "boundary = pd.read_csv('./test_dat.csv').to_numpy()\n",
    "\n",
    "# smooth boundary\n",
    "smoothed_boundary = smooth_Boundary(boundary)\n",
    "\n",
    "# display results\n",
    "fig, ax = plt.subplots()\n",
    "ax.set_aspect('equal')\n",
    "\n",
    "ax.plot(boundary[:, 0], boundary[:, 1], 'k.-', ms=2, lw=0.5, label='boundary')\n",
    "ax.plot(smoothed_boundary[:, 0], smoothed_boundary[:, 1], 'b.-', ms=2, lw=1.5, label='smoothed boundary')\n",
    "ax.legend(loc='best', fontsize='small')"
   ]
  },
  {
   "cell_type": "code",
   "execution_count": null,
   "metadata": {},
   "outputs": [],
   "source": []
  }
 ],
 "metadata": {
  "kernelspec": {
   "display_name": "Python 3",
   "language": "python",
   "name": "python3"
  },
  "language_info": {
   "codemirror_mode": {
    "name": "ipython",
    "version": 3
   },
   "file_extension": ".py",
   "mimetype": "text/x-python",
   "name": "python",
   "nbconvert_exporter": "python",
   "pygments_lexer": "ipython3",
   "version": "3.9.4"
  },
  "toc-autonumbering": true,
  "toc-showcode": false,
  "toc-showmarkdowntxt": false,
  "toc-showtags": false,
  "widgets": {
   "application/vnd.jupyter.widget-state+json": {
    "state": {},
    "version_major": 2,
    "version_minor": 0
   }
  }
 },
 "nbformat": 4,
 "nbformat_minor": 4
}
